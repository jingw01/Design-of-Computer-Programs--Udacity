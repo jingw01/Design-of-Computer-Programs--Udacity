{
 "metadata": {
  "name": "",
  "signature": "sha256:adbbed1c7a39e8da59816e2fd962c53443eddbd80576c58c5a82eecaba93f901"
 },
 "nbformat": 3,
 "nbformat_minor": 0,
 "worksheets": [
  {
   "cells": [
    {
     "cell_type": "markdown",
     "metadata": {},
     "source": [
      "Design of Computer Programs -- Lesson 1 \n"
     ]
    },
    {
     "cell_type": "code",
     "collapsed": false,
     "input": [
      "import numpy as np\n",
      "\n",
      "# Test Function\n",
      "    \n",
      "def test():\n",
      "    \"Test cases for the functions in poker program.\"\n",
      "    sf = \"6C 7C 8C 9C TC\".split() # Straight Flush\n",
      "    fk = \"9D 9H 9S 9C 7D\".split() # Four of a Kind\n",
      "    fh = \"TD TC TH 7C 7D\".split() # Full House\n",
      "    tp = \"5S 5D 9H 9C 6S\".split() # Two pairs\n",
      "    fkranks = card_ranks(fk)\n",
      "    tpranks = card_ranks(tp)\n",
      "    assert kind(4, fkranks) == 9\n",
      "    assert kind(3, fkranks) == None\n",
      "    assert kind(2, fkranks) == None\n",
      "    assert kind(1, fkranks) == 7\n",
      "    return 'tests pass'\n",
      "    \n"
     ],
     "language": "python",
     "metadata": {},
     "outputs": [],
     "prompt_number": 2
    },
    {
     "cell_type": "code",
     "collapsed": false,
     "input": [
      "#Card Rank Functions\n",
      "\n",
      "def card_ranks(hand):\n",
      "    \"Return a list of the ranks, sorted with higher first.\"\n",
      "    ranks = ['--23456789TJQKA'.index(r) for r, s in hand]\n",
      "    ranks.sort(reverse = True)\n",
      "    return ranks\n"
     ],
     "language": "python",
     "metadata": {},
     "outputs": [],
     "prompt_number": 3
    },
    {
     "cell_type": "code",
     "collapsed": false,
     "input": [
      "ranks=[3,3,4,5,5]\n",
      "a=[(ranks.count(x),x) for x in set(ranks)]\n",
      "check=[r if f==2 else 0 for f,r in a]\n",
      "max(check)\n"
     ],
     "language": "python",
     "metadata": {},
     "outputs": [
      {
       "metadata": {},
       "output_type": "pyout",
       "prompt_number": 24,
       "text": [
        "5"
       ]
      }
     ],
     "prompt_number": 24
    },
    {
     "cell_type": "code",
     "collapsed": false,
     "input": [
      "def kind(n, ranks):\n",
      "    \"\"\"Return the first rank that this hand has exactly n of.\n",
      "    Return None if there is no n-of-a-kind in the hand.\"\"\"\n",
      "    freq=[(x,ranks.count(x)) for x in set(ranks)]\n",
      "    boo=[r if f==n else 0 for r,f in freq]\n",
      "    if max(boo)==0:\n",
      "        return None\n",
      "    else:\n",
      "        return max(boo)\n",
      "\n",
      "    '''\n",
      "    ANSWER:\n",
      "    for r in ranks:\n",
      "        if ranks.count(r) == n: return r \n",
      "    return None\n",
      "    '''"
     ],
     "language": "python",
     "metadata": {},
     "outputs": [],
     "prompt_number": 28
    },
    {
     "cell_type": "code",
     "collapsed": false,
     "input": [
      "print test()"
     ],
     "language": "python",
     "metadata": {},
     "outputs": [
      {
       "output_type": "stream",
       "stream": "stdout",
       "text": [
        "tests pass\n"
       ]
      }
     ],
     "prompt_number": 29
    },
    {
     "cell_type": "code",
     "collapsed": false,
     "input": [],
     "language": "python",
     "metadata": {},
     "outputs": []
    }
   ],
   "metadata": {}
  }
 ]
}